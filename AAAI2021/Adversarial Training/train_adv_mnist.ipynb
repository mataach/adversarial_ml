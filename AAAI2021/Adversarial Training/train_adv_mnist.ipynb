{
 "cells": [
  {
   "cell_type": "markdown",
   "metadata": {},
   "source": [
    "### Imports"
   ]
  },
  {
   "cell_type": "code",
   "execution_count": null,
   "metadata": {},
   "outputs": [],
   "source": [
    "import numpy as np\n",
    "import torch\n",
    "import torchvision\n",
    "import torch.nn as nn\n",
    "import torch.nn.functional as F\n",
    "import torch.optim as optim\n",
    "from torchvision import datasets, transforms, utils\n",
    "from torch.utils.data import TensorDataset, DataLoader\n",
    "from pathlib import Path\n",
    "import os\n",
    "import matplotlib.pyplot as plt\n",
    "\n",
    "\n",
    "from art.attacks.evasion import ElasticNet\n",
    "from art.attacks.evasion import ProjectedGradientDescentPyTorch as PGDAttack\n",
    "from art.estimators.classification import PyTorchClassifier\n",
    "from art.utils import load_mnist\n",
    "\n",
    "from adv_utils import *\n",
    "from adv_attacks import EAD_L1, PGD\n",
    "\n",
    "\n",
    "%matplotlib inline\n",
    "%config InlineBackend.figure_format='retina'\n",
    "device = torch.device(\"cuda:0\" if torch.cuda.is_available() else \"cpu\")\n",
    "use_cuda = True"
   ]
  },
  {
   "cell_type": "code",
   "execution_count": null,
   "metadata": {},
   "outputs": [],
   "source": [
    "(x_train, y_train), (x_test, y_test), min_, max_ = load_mnist()\n",
    "\n",
    "x_train = np.swapaxes(x_train, 1, 3).astype(np.float32)\n",
    "x_test = np.swapaxes(x_test, 1, 3).astype(np.float32)\n",
    "\n",
    "train_dataset = TensorDataset(torch.Tensor(x_train), torch.Tensor(y_train))\n",
    "train_dataloader = DataLoader(train_dataset, batch_size=100, num_workers=6)\n",
    "\n",
    "test_dataset = TensorDataset(torch.Tensor(x_test), torch.Tensor(y_test))\n",
    "test_dataloader = DataLoader(test_dataset, batch_size=1000, num_workers=6)"
   ]
  },
  {
   "cell_type": "markdown",
   "metadata": {},
   "source": [
    "### Classifier"
   ]
  },
  {
   "cell_type": "code",
   "execution_count": null,
   "metadata": {},
   "outputs": [],
   "source": [
    "from CNN import CNN_mnist\n",
    "net = CNN_mnist().to(device)\n",
    "\n",
    "criterion = nn.CrossEntropyLoss()\n",
    "optimizer = optim.Adam(net.parameters(), lr=1e-3)\n",
    "\n",
    "eps_l2, a_l2 = 2, 0.1\n",
    "eps_linf, a_linf = 0.3, 0.01"
   ]
  },
  {
   "cell_type": "markdown",
   "metadata": {},
   "source": [
    "### L2 Adversarial Training"
   ]
  },
  {
   "cell_type": "code",
   "execution_count": null,
   "metadata": {
    "scrolled": false
   },
   "outputs": [],
   "source": [
    "for e in range(1, 11):\n",
    "    print('\\nEpoch: %d' % int(e))\n",
    "#     Reduce lr by 10 at epoch 5\n",
    "    optimizer = adjust_learning_rate(net, optimizer, e, dataset='mnist')\n",
    "#     Optimization that works well on MNIST: do a first epoch with a lower epsilon\n",
    "    epsilon = eps_l2 / 3.0 if e == 1 else eps_l2\n",
    "    \n",
    "    adv_train(net, optimizer, norm=2, eps=epsilon, a=a_l2)\n",
    "    acc = test(net)\n",
    "    \n",
    "#     Save checkpoints\n",
    "    torch.save(net.state_dict(), 'adv_2_mnist.pth')"
   ]
  },
  {
   "cell_type": "markdown",
   "metadata": {},
   "source": [
    "### Linf Adversarial Training"
   ]
  },
  {
   "cell_type": "code",
   "execution_count": null,
   "metadata": {},
   "outputs": [],
   "source": [
    "for e in range(1, 11):\n",
    "    print('\\nEpoch: %d' % int(e))\n",
    "#     Reduce lr by 10 at epoch 5\n",
    "    optimizer = adjust_learning_rate(net, optimizer, e, dataset='mnist')\n",
    "#     Optimization that works well on MNIST: do a first epoch with a lower epsilon\n",
    "    epsilon = eps_linf / 3.0 if e == 1 else eps_linf\n",
    "    \n",
    "    adv_train(net, optimizer, norm=np.inf, eps=epsilon, a=a_linf)\n",
    "    acc = test(net)\n",
    "    \n",
    "#     Save checkpoints\n",
    "    torch.save(net.state_dict(), 'adv_inf_mnist.pth')"
   ]
  }
 ],
 "metadata": {
  "kernelspec": {
   "display_name": "FYP-TF-GPU-2.1",
   "language": "python",
   "name": "fyp"
  },
  "language_info": {
   "codemirror_mode": {
    "name": "ipython",
    "version": 3
   },
   "file_extension": ".py",
   "mimetype": "text/x-python",
   "name": "python",
   "nbconvert_exporter": "python",
   "pygments_lexer": "ipython3",
   "version": "3.7.6"
  }
 },
 "nbformat": 4,
 "nbformat_minor": 4
}
