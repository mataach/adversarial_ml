{
 "cells": [
  {
   "cell_type": "code",
   "execution_count": 1,
   "metadata": {},
   "outputs": [],
   "source": [
    "import numpy as np\n",
    "import torch\n",
    "import torchvision\n",
    "import torch.nn as nn\n",
    "import torch.nn.functional as F\n",
    "import torch.optim as optim\n",
    "import torchvision\n",
    "from torchvision import datasets, transforms, utils\n",
    "from torch.utils.data import TensorDataset, DataLoader\n",
    "import torch.backends.cudnn as cudnn\n",
    "import time\n",
    "from pathlib import Path\n",
    "import os\n",
    "\n",
    "from art.estimators.classification import PyTorchClassifier\n",
    "from art.utils import load_mnist\n",
    "\n",
    "from quant_mnist_model import *\n",
    "from QuantModules import *\n",
    "from _quantUtils import *\n",
    "from _utils import train, test\n",
    "\n",
    "\n",
    "%matplotlib inline\n",
    "%config InlineBackend.figure_format='retina'\n",
    "device = torch.device(\"cuda:0\" if torch.cuda.is_available() else \"cpu\")\n",
    "use_cuda = True"
   ]
  },
  {
   "cell_type": "code",
   "execution_count": 2,
   "metadata": {},
   "outputs": [],
   "source": [
    "(x_train, y_train), (x_test, y_test), min_, max_ = load_mnist()\n",
    "\n",
    "x_train = np.swapaxes(x_train, 1, 3).astype(np.float32)\n",
    "x_test = np.swapaxes(x_test, 1, 3).astype(np.float32)\n",
    "\n",
    "train_dataset = TensorDataset(torch.Tensor(x_train), torch.Tensor(y_train))\n",
    "train_dataloader = DataLoader(train_dataset, batch_size=128)\n",
    "\n",
    "test_dataset = TensorDataset(torch.Tensor(x_test), torch.Tensor(y_test))\n",
    "test_dataloader = DataLoader(test_dataset, batch_size=1000)"
   ]
  },
  {
   "cell_type": "code",
   "execution_count": 8,
   "metadata": {},
   "outputs": [
    {
     "name": "stdout",
     "output_type": "stream",
     "text": [
      "\n",
      "Epoch: 1\n",
      "Test accuracy:  97.19\n",
      "\n",
      "Epoch: 2\n",
      "Test accuracy:  98.06\n",
      "\n",
      "Epoch: 3\n",
      "Test accuracy:  98.46000000000001\n",
      "\n",
      "Epoch: 4\n",
      "Test accuracy:  98.64\n",
      "\n",
      "Epoch: 5\n",
      "Test accuracy:  98.7\n"
     ]
    }
   ],
   "source": [
    "model = classifier().to(device)\n",
    "\n",
    "criterion = nn.CrossEntropyLoss()\n",
    "optimizer = optim.Adam(model.parameters(), lr=.001, weight_decay=1e-4)\n",
    "\n",
    "best_prec = 0\n",
    "\n",
    "for e in range(5):\n",
    "    print('\\nEpoch: %d' % int(e+1))\n",
    "    train(model, optimizer, train_dataloader)\n",
    "    prec = test(model, test_dataloader)\n",
    "    is_best = prec > best_prec\n",
    "    best_prec = max(prec, best_prec)\n",
    "    if is_best:\n",
    "        torch.save(model.state_dict(), 'mnist_4bit.pth')"
   ]
  },
  {
   "cell_type": "code",
   "execution_count": 4,
   "metadata": {},
   "outputs": [
    {
     "data": {
      "text/plain": [
       "Classifier(\n",
       "  (conv1): first_conv(1, 10, kernel_size=(5, 5), stride=(1, 1), bias=False)\n",
       "  (conv2): QuantConv2d(\n",
       "    10, 20, kernel_size=(5, 5), stride=(1, 1), bias=False\n",
       "    (weight_quant): weight_quantize_fn()\n",
       "  )\n",
       "  (conv2_drop): Dropout2d(p=0.5, inplace=False)\n",
       "  (fc1): last_fc(in_features=320, out_features=512, bias=True)\n",
       "  (fc2): last_fc(in_features=512, out_features=200, bias=True)\n",
       "  (fc3): last_fc(in_features=200, out_features=10, bias=True)\n",
       ")"
      ]
     },
     "execution_count": 4,
     "metadata": {},
     "output_type": "execute_result"
    }
   ],
   "source": [
    "model"
   ]
  },
  {
   "cell_type": "code",
   "execution_count": null,
   "metadata": {},
   "outputs": [],
   "source": []
  }
 ],
 "metadata": {
  "kernelspec": {
   "display_name": "FYP-TF-GPU-2.1",
   "language": "python",
   "name": "fyp"
  },
  "language_info": {
   "codemirror_mode": {
    "name": "ipython",
    "version": 3
   },
   "file_extension": ".py",
   "mimetype": "text/x-python",
   "name": "python",
   "nbconvert_exporter": "python",
   "pygments_lexer": "ipython3",
   "version": "3.7.6"
  }
 },
 "nbformat": 4,
 "nbformat_minor": 4
}
