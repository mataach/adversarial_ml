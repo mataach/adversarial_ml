{
 "cells": [
  {
   "cell_type": "markdown",
   "metadata": {},
   "source": [
    "### Imports"
   ]
  },
  {
   "cell_type": "code",
   "execution_count": null,
   "metadata": {},
   "outputs": [],
   "source": [
    "import numpy as np\n",
    "import torch\n",
    "import torchvision\n",
    "import torch.nn as nn\n",
    "import torch.nn.functional as F\n",
    "import torch.optim as optim\n",
    "import torchvision\n",
    "from torchvision import datasets, transforms, utils\n",
    "from torch.utils.data import TensorDataset, DataLoader\n",
    "import torch.backends.cudnn as cudnn\n",
    "import time\n",
    "from pathlib import Path\n",
    "import os\n",
    "\n",
    "from art.attacks.evasion import ElasticNet\n",
    "from art.attacks.evasion import ProjectedGradientDescentPyTorch as PGDAttack\n",
    "from art.estimators.classification import PyTorchClassifier\n",
    "from art.utils import load_cifar10\n",
    "\n",
    "from QuantResNet18 import resnet20 as QuantResNet\n",
    "from _utils import train, test\n",
    "\n",
    "\n",
    "%matplotlib inline\n",
    "%config InlineBackend.figure_format='retina'\n",
    "device = torch.device(\"cuda:0\" if torch.cuda.is_available() else \"cpu\")\n",
    "use_cuda = True"
   ]
  },
  {
   "cell_type": "code",
   "execution_count": null,
   "metadata": {},
   "outputs": [],
   "source": [
    "(x_train, y_train), (x_test, y_test), min_, max_ = load_cifar10()\n",
    "\n",
    "x_train = np.swapaxes(x_train, 1, 3).astype(np.float32)\n",
    "x_test = np.swapaxes(x_test, 1, 3).astype(np.float32)\n",
    "\n",
    "train_dataset = TensorDataset(torch.Tensor(x_train), torch.Tensor(y_train))\n",
    "train_dataloader = DataLoader(train_dataset, batch_size=128)\n",
    "\n",
    "test_dataset = TensorDataset(torch.Tensor(x_test), torch.Tensor(y_test))\n",
    "test_dataloader = DataLoader(test_dataset, batch_size=1000)\n",
    "test_dataloader_single =  DataLoader(test_dataset, batch_size=1)"
   ]
  },
  {
   "cell_type": "markdown",
   "metadata": {},
   "source": [
    "### Pretrained quantized model"
   ]
  },
  {
   "cell_type": "code",
   "execution_count": null,
   "metadata": {},
   "outputs": [],
   "source": [
    "# Change the self.bits argument in QuantModules\n",
    "PATH = './models/resnet18_3bit.pth'\n",
    "\n",
    "# Define what device we are using\n",
    "print(\"CUDA Available: \",torch.cuda.is_available())\n",
    "device = torch.device(\"cuda\" if (use_cuda and torch.cuda.is_available()) else \"cpu\")\n",
    "\n",
    "# Initialize models.\n",
    "net = QuantResNet().to(device)\n",
    "\n",
    "# Load pre-trained model\n",
    "net.load_state_dict(torch.load(PATH, map_location='cpu'))\n",
    "\n",
    "# Load loss and optimiser\n",
    "criterion = nn.CrossEntropyLoss()\n",
    "optimizer = optim.SGD(net.parameters(), lr=0.1,\n",
    "                      momentum=0.9, weight_decay=5e-4)\n",
    "\n",
    "# Make a classifier wrapper!\n",
    "classifier = PyTorchClassifier(\n",
    "    model=net,\n",
    "    clip_values=(min_, max_),\n",
    "    loss=criterion,\n",
    "    optimizer=optimizer,\n",
    "    input_shape=(3, 32, 32),\n",
    "    nb_classes=10,\n",
    ")\n",
    "\n",
    "\n",
    "# Test model\n",
    "predictions = classifier.predict(x_test)\n",
    "accuracy = np.sum(np.argmax(predictions, axis=1) == np.argmax(y_test, axis=1)) / len(y_test)\n",
    "print(\"Accuracy on benign test examples: {} %\".format(accuracy * 100))"
   ]
  },
  {
   "cell_type": "markdown",
   "metadata": {},
   "source": [
    "### Elastic Net attack"
   ]
  },
  {
   "cell_type": "code",
   "execution_count": null,
   "metadata": {},
   "outputs": [],
   "source": [
    "def EAD_L1(classifier, x_test):\n",
    "    attack = ElasticNet(classifier=classifier,\n",
    "                        learning_rate=1e-2,\n",
    "                        binary_search_steps=5,\n",
    "                        max_iter=10,\n",
    "                        beta=1e-3,\n",
    "                        initial_const=1e-3,\n",
    "                        decision_rule=\"L1\")\n",
    "    x_test_adv = attack.generate(x=x_test)\n",
    "    return x_test_adv"
   ]
  },
  {
   "cell_type": "code",
   "execution_count": null,
   "metadata": {},
   "outputs": [],
   "source": [
    "# create adversarial samples on pruned models and attack pruned models \n",
    "\n",
    "n = 1000\n",
    "x_test_adv_l1 = EAD_L1(classifier, x_test[:n])\n",
    "predictions = classifier.predict(x_test_adv_l1)\n",
    "acc = 100*(np.sum(np.argmax(predictions, axis=1) == np.argmax(y_test[:n], axis=1)) / n)\n",
    "    \n",
    "print(' Accuracy:', acc)"
   ]
  },
  {
   "cell_type": "markdown",
   "metadata": {},
   "source": [
    "### Projected Gradient Descent attack"
   ]
  },
  {
   "cell_type": "code",
   "execution_count": null,
   "metadata": {},
   "outputs": [],
   "source": [
    "def PGD(classifier, x_test, norm, eps, alpha):\n",
    "    attack = PGDAttack(estimator=classifier,\n",
    "                       norm=norm,\n",
    "                       eps=eps,\n",
    "                       eps_step=alpha,\n",
    "                       max_iter=100,\n",
    "                       verbose=False)\n",
    "    x_test_adv = attack.generate(x=x_test)\n",
    "    return x_test_adv"
   ]
  },
  {
   "cell_type": "code",
   "execution_count": null,
   "metadata": {},
   "outputs": [],
   "source": [
    "# L2\n",
    "\n",
    "n = 1000\n",
    "x_test_adv_l2 = PGD(classifier, x_test[:n], norm=2, eps=400/255., alpha=200/255.)\n",
    "predictions = classifier.predict(x_test_adv_l2)\n",
    "acc = 100*(np.sum(np.argmax(predictions, axis=1) == np.argmax(y_test[:n], axis=1)) / n)\n",
    "    \n",
    "print(' Accuracy:', acc)"
   ]
  },
  {
   "cell_type": "code",
   "execution_count": null,
   "metadata": {},
   "outputs": [],
   "source": [
    "# Linf\n",
    "n = 1000\n",
    "x_test_adv_linf = PGD(classifier, x_test[:n], norm=np.inf, eps=4/255., alpha=2/255.)\n",
    "predictions = classifier.predict(x_test_adv_linf)\n",
    "acc = 100*(np.sum(np.argmax(predictions, axis=1) == np.argmax(y_test[:n], axis=1)) / n)\n",
    "    \n",
    "print(' Accuracy:', acc)"
   ]
  }
 ],
 "metadata": {
  "kernelspec": {
   "display_name": "FYP-TF-GPU-2.1",
   "language": "python",
   "name": "fyp"
  },
  "language_info": {
   "codemirror_mode": {
    "name": "ipython",
    "version": 3
   },
   "file_extension": ".py",
   "mimetype": "text/x-python",
   "name": "python",
   "nbconvert_exporter": "python",
   "pygments_lexer": "ipython3",
   "version": "3.7.6"
  }
 },
 "nbformat": 4,
 "nbformat_minor": 4
}
