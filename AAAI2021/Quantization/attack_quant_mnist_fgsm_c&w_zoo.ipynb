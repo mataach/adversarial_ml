{
 "cells": [
  {
   "cell_type": "markdown",
   "metadata": {},
   "source": [
    "### Imports"
   ]
  },
  {
   "cell_type": "code",
   "execution_count": null,
   "metadata": {},
   "outputs": [],
   "source": [
    "import numpy as np\n",
    "import torch\n",
    "import torchvision\n",
    "import torch.nn as nn\n",
    "import torch.nn.functional as F\n",
    "import torch.optim as optim\n",
    "import torchvision\n",
    "from torchvision import datasets, transforms, utils\n",
    "from torch.utils.data import TensorDataset, DataLoader\n",
    "import torch.backends.cudnn as cudnn\n",
    "import time\n",
    "from pathlib import Path\n",
    "import os\n",
    "\n",
    "from art.attacks.evasion import FastGradientMethod, CarliniL2Method, CarliniLInfMethod, ZooAttack\n",
    "from art.estimators.classification import PyTorchClassifier\n",
    "from art.utils import load_mnist\n",
    "\n",
    "from quant_mnist_model import *\n",
    "from QuantModules import *\n",
    "from _quantUtils import *\n",
    "from _utils import train, test\n",
    "\n",
    "\n",
    "%matplotlib inline\n",
    "%config InlineBackend.figure_format='retina'\n",
    "device = torch.device(\"cuda:0\" if torch.cuda.is_available() else \"cpu\")\n",
    "use_cuda = True"
   ]
  },
  {
   "cell_type": "code",
   "execution_count": null,
   "metadata": {},
   "outputs": [],
   "source": [
    "(x_train, y_train), (x_test, y_test), min_, max_ = load_mnist()\n",
    "\n",
    "x_train = np.swapaxes(x_train, 1, 3).astype(np.float32)\n",
    "x_test = np.swapaxes(x_test, 1, 3).astype(np.float32)\n",
    "\n",
    "train_dataset = TensorDataset(torch.Tensor(x_train), torch.Tensor(y_train))\n",
    "train_dataloader = DataLoader(train_dataset, batch_size=128)\n",
    "\n",
    "test_dataset = TensorDataset(torch.Tensor(x_test), torch.Tensor(y_test))\n",
    "test_dataloader = DataLoader(test_dataset, batch_size=1000)"
   ]
  },
  {
   "cell_type": "markdown",
   "metadata": {},
   "source": [
    "###  Load pretrained quant model"
   ]
  },
  {
   "cell_type": "code",
   "execution_count": null,
   "metadata": {},
   "outputs": [],
   "source": [
    "PATH = 'mnist_4bit.pth'\n",
    "\n",
    "# Define what device we are using\n",
    "print(\"CUDA Available: \",torch.cuda.is_available())\n",
    "device = torch.device(\"cuda\" if (use_cuda and torch.cuda.is_available()) else \"cpu\")\n",
    "\n",
    "# Initialize models.\n",
    "net = classifier().to(device)\n",
    "\n",
    "# Load pre-trained model\n",
    "net.load_state_dict(torch.load(PATH, map_location='cpu'))\n",
    "\n",
    "# Load loss and optimiser\n",
    "criterion = nn.CrossEntropyLoss()\n",
    "optimizer = optim.Adam(net.parameters(), lr=.01, weight_decay=1e-4)\n",
    "\n",
    "# Make a classifier wrapper!\n",
    "classifier = PyTorchClassifier(\n",
    "    model=net,\n",
    "    clip_values=(min_, max_),\n",
    "    loss=criterion,\n",
    "    optimizer=optimizer,\n",
    "    input_shape=(1, 28, 28),\n",
    "    nb_classes=10,\n",
    ")\n",
    "\n",
    "\n",
    "# Test model\n",
    "predictions = classifier.predict(x_test)\n",
    "accuracy = np.sum(np.argmax(predictions, axis=1) == np.argmax(y_test, axis=1)) / len(y_test)\n",
    "print(\"Accuracy on benign test examples: {} %\".format(accuracy * 100))"
   ]
  },
  {
   "cell_type": "markdown",
   "metadata": {},
   "source": [
    "### FGSM attack"
   ]
  },
  {
   "cell_type": "code",
   "execution_count": null,
   "metadata": {},
   "outputs": [],
   "source": [
    "epsilons = [.1, .2, .3]\n",
    "\n",
    "for e in epsilons:\n",
    "    adv_crafter = FastGradientMethod(classifier, eps=e)\n",
    "    x_test_adv = adv_crafter.generate(x=x_test)\n",
    "    predictions = classifier.predict(x_test_adv)\n",
    "    accuracy = 100.*(np.sum(np.argmax(predictions, axis=1) == np.argmax(y_test, axis=1)) / len(y_test))\n",
    "    print(\"Epsilon: {}   Test Accuracy = {}\".format(e, accuracy))"
   ]
  },
  {
   "cell_type": "markdown",
   "metadata": {},
   "source": [
    "### C&W attack"
   ]
  },
  {
   "cell_type": "code",
   "execution_count": null,
   "metadata": {},
   "outputs": [],
   "source": [
    "# Generate adversarial samples\n",
    "def CarliniL2(classifier, x_test, init_const=0.01):\n",
    "    attack = CarliniL2Method(classifier=classifier,\n",
    "                            confidence=0.0,\n",
    "                            targeted=False,\n",
    "                            learning_rate=0.01,\n",
    "                            binary_search_steps=9,\n",
    "                            initial_const=init_const,\n",
    "                            batch_size=1)\n",
    "    x_test_adv = attack.generate(x=x_test)\n",
    "    return x_test_adv\n",
    "\n",
    "def CarliniLInf(classifier, x_test, epsilon=0.3):\n",
    "    attack = CarliniLInfMethod(classifier=classifier, \n",
    "                              confidence=0.0,\n",
    "                              targeted=False, \n",
    "                              learning_rate=0.01,\n",
    "                              eps=epsilon, \n",
    "                              batch_size=128)\n",
    "    x_test_adv = attack.generate(x=x_test)\n",
    "    return x_test_adv"
   ]
  },
  {
   "cell_type": "code",
   "execution_count": null,
   "metadata": {},
   "outputs": [],
   "source": [
    "# create adversarial samples on quant models and attack quant models (runtime: 4bit=23min, 3bit=33min, 2bit=30min)\n",
    "\n",
    "n = 200\n",
    "x_test_adv_c2 = CarliniL2(classifier, x_test[:n])\n",
    "predictions = classifier.predict(x_test_adv_c2)\n",
    "acc = 100*(np.sum(np.argmax(predictions, axis=1) == np.argmax(y_test[:n], axis=1)) / n)\n",
    "    \n",
    "print(' Accuracy:', acc)"
   ]
  },
  {
   "cell_type": "code",
   "execution_count": null,
   "metadata": {},
   "outputs": [],
   "source": [
    "n = 1000 #18s runtime\n",
    "x_test_adv_cinf = CarliniLInf(classifier, x_test[:n])\n",
    "predictions = classifier.predict(x_test_adv_cinf)\n",
    "acc = 100*(np.sum(np.argmax(predictions, axis=1) == np.argmax(y_test[:n], axis=1)) / n)\n",
    "    \n",
    "print(' Accuracy:', acc)"
   ]
  },
  {
   "cell_type": "markdown",
   "metadata": {},
   "source": [
    "### ZOO attack"
   ]
  },
  {
   "cell_type": "code",
   "execution_count": null,
   "metadata": {},
   "outputs": [],
   "source": [
    "# ZOO attack is a gradient-free attack\n",
    "def ZOO(classifier, x_test):\n",
    "    attack = ZooAttack(classifier=classifier,\n",
    "                        learning_rate=1,\n",
    "                        binary_search_steps=3,\n",
    "                        initial_const=1,\n",
    "                        variable_h=0.1)\n",
    "    x_test_adv = attack.generate(x=x_test)\n",
    "    return x_test_adv"
   ]
  },
  {
   "cell_type": "code",
   "execution_count": null,
   "metadata": {},
   "outputs": [],
   "source": [
    "n = 200\n",
    "x_test_adv_z = ZOO(classifier, x_test[:n])\n",
    "predictions = classifier.predict(x_test_adv_z)\n",
    "acc = 100*(np.sum(np.argmax(predictions, axis=1) == np.argmax(y_test[:n], axis=1)) / n)\n",
    "    \n",
    "print(' Accuracy:', acc)"
   ]
  },
  {
   "cell_type": "code",
   "execution_count": null,
   "metadata": {},
   "outputs": [],
   "source": []
  }
 ],
 "metadata": {
  "kernelspec": {
   "display_name": "FYP-TF-GPU-2.1",
   "language": "python",
   "name": "fyp"
  },
  "language_info": {
   "codemirror_mode": {
    "name": "ipython",
    "version": 3
   },
   "file_extension": ".py",
   "mimetype": "text/x-python",
   "name": "python",
   "nbconvert_exporter": "python",
   "pygments_lexer": "ipython3",
   "version": "3.7.6"
  }
 },
 "nbformat": 4,
 "nbformat_minor": 4
}
