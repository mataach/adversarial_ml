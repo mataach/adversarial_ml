{
 "cells": [
  {
   "cell_type": "markdown",
   "metadata": {},
   "source": [
    "### Imports"
   ]
  },
  {
   "cell_type": "code",
   "execution_count": 2,
   "metadata": {},
   "outputs": [],
   "source": [
    "from __future__ import print_function\n",
    "import numpy as np\n",
    "import torch\n",
    "import torchvision\n",
    "import torch.nn as nn\n",
    "import torch.nn.functional as F\n",
    "import torch.optim as optim\n",
    "from torchvision import datasets, transforms, utils\n",
    "from torch.utils.data import TensorDataset, DataLoader\n",
    "import matplotlib.pyplot as plt\n",
    "import time\n",
    "import h5py\n",
    "from pathlib import Path\n",
    "\n",
    "\n",
    "from art.attacks import CarliniL2Method, CarliniLInfMethod\n",
    "from art.classifiers import PyTorchClassifier\n",
    "from art.utils import load_mnist\n",
    "\n",
    "%matplotlib inline\n",
    "%config InlineBackend.figure_format='retina'\n",
    "device = torch.device(\"cuda:0\" if torch.cuda.is_available() else \"cpu\")"
   ]
  },
  {
   "cell_type": "markdown",
   "metadata": {},
   "source": [
    "### Load dataset"
   ]
  },
  {
   "cell_type": "code",
   "execution_count": 3,
   "metadata": {},
   "outputs": [],
   "source": [
    "# Step 1: Load the MNIST dataset\n",
    "\n",
    "(x_train, y_train), (x_test, y_test), min_pixel_value, max_pixel_value = load_mnist()\n",
    "\n",
    "# Step 1a: Swap axes to PyTorch's NCHW format\n",
    "\n",
    "x_train = np.swapaxes(x_train, 1, 3).astype(np.float32)\n",
    "x_test = np.swapaxes(x_test, 1, 3).astype(np.float32)\n",
    "\n",
    "# Create dataloaders\n",
    "\n",
    "train_dataset = TensorDataset(torch.Tensor(x_train), torch.Tensor(y_train))\n",
    "train_dataloader = DataLoader(train_dataset, batch_size=64)\n",
    "\n",
    "test_dataset = TensorDataset(torch.Tensor(x_test), torch.Tensor(y_test))\n",
    "test_dataloader = DataLoader(test_dataset, batch_size=1000)"
   ]
  },
  {
   "cell_type": "markdown",
   "metadata": {},
   "source": [
    "## Classifier"
   ]
  },
  {
   "cell_type": "code",
   "execution_count": 5,
   "metadata": {},
   "outputs": [],
   "source": [
    "class Classifier(nn.Module):\n",
    "    def __init__(self):\n",
    "        super(Classifier, self).__init__()\n",
    "        self.conv1 = nn.Conv2d(1, 10, kernel_size=5)\n",
    "        self.conv2 = nn.Conv2d(10, 20, kernel_size=5)\n",
    "        self.conv2_drop = nn.Dropout2d()\n",
    "        self.fc1 = nn.Linear(320, 512)\n",
    "        self.fc2 = nn.Linear(512, 200)\n",
    "        self.fc3 = nn.Linear(200,10)\n",
    "        \n",
    "\n",
    "    def forward(self, x):\n",
    "        x = F.relu(F.max_pool2d(self.conv1(x), 2))\n",
    "        x = F.relu(F.max_pool2d(self.conv2_drop(self.conv2(x)), 2))\n",
    "        x = x.view(-1, 320)\n",
    "        x = F.relu(self.fc1(x))\n",
    "        x = F.dropout(x, training=self.training)\n",
    "        x = F.relu(self.fc2(x))\n",
    "        x = F.dropout(x, training=self.training)\n",
    "        x = self.fc3(x)\n",
    "        return x\n",
    "    \n",
    "\n",
    "def train_classifier(cl, opt, x, y):\n",
    "    x.to(device)\n",
    "    y.to(device)\n",
    "    #Reset gradients\n",
    "    opt.zero_grad()\n",
    "    #Train on real data\n",
    "    pred = cl(x)\n",
    "    pred.to(device)\n",
    "    err = F.nll_loss(F.log_softmax(pred, dim=0), y)\n",
    "    err.backward()\n",
    "    #Update optimizer\n",
    "    opt.step()\n",
    "    return err, pred\n",
    "\n",
    "def test_model(cl,test_loader): \n",
    "    correct = 0\n",
    "    with torch.no_grad():\n",
    "        cl.eval()\n",
    "        for data, target in test_loader:\n",
    "            output = cl(data.to(device))\n",
    "            pred = output.data.max(1, keepdim=True)[1].to(\"cpu\")\n",
    "            target = np.argmax(target, axis=1)\n",
    "            correct += pred.eq(target.data.view_as(pred)).sum()\n",
    "        acc_test = float(correct.numpy() / len(test_loader.dataset))\n",
    "        \n",
    "    return acc_test"
   ]
  },
  {
   "cell_type": "code",
   "execution_count": 4,
   "metadata": {},
   "outputs": [],
   "source": [
    "# ART CLASSIFIER\n",
    "class Net(nn.Module):\n",
    "    def __init__(self):\n",
    "        super(Net, self).__init__()\n",
    "        self.conv_1 = nn.Conv2d(in_channels=1, out_channels=4, kernel_size=5, stride=1)\n",
    "        self.conv_2 = nn.Conv2d(in_channels=4, out_channels=10, kernel_size=5, stride=1)\n",
    "        self.fc_1 = nn.Linear(in_features=4 * 4 * 10, out_features=100)\n",
    "        self.fc_2 = nn.Linear(in_features=100, out_features=10)\n",
    "\n",
    "#         return logits instead of activation (softmax) in forward method\n",
    "    def forward(self, x):\n",
    "        x = F.relu(self.conv_1(x))\n",
    "        x = F.max_pool2d(x, 2, 2)\n",
    "        x = F.relu(self.conv_2(x))\n",
    "        x = F.max_pool2d(x, 2, 2)\n",
    "        x = x.view(-1, 4 * 4 * 10)\n",
    "        x = F.relu(self.fc_1(x))\n",
    "        x = self.fc_2(x)\n",
    "        return x"
   ]
  },
  {
   "cell_type": "markdown",
   "metadata": {},
   "source": [
    "### Training"
   ]
  },
  {
   "cell_type": "code",
   "execution_count": 6,
   "metadata": {},
   "outputs": [
    {
     "name": "stdout",
     "output_type": "stream",
     "text": [
      "Epoch  0 : Test accuracy:  97.8 %\n",
      "Epoch  1 : Test accuracy:  98.59 %\n",
      "Epoch  2 : Test accuracy:  98.82 %\n",
      "Epoch  3 : Test accuracy:  99.0 %\n",
      "Performance in the trained model: \n",
      "Test accuracy:  99.0 %\n",
      "FINISHED!!!\n"
     ]
    }
   ],
   "source": [
    "num_epochs = 4\n",
    "batch_size = 32\n",
    "e_losses = [] \n",
    "\n",
    "# Load pre-trained model\n",
    "cl = Classifier().to(device) \n",
    "\n",
    "# optimizer\n",
    "decay = 0\n",
    "cl_opt = optim.Adam(cl.parameters(), lr=0.001, weight_decay=decay)\n",
    "\n",
    "for e in range(num_epochs):\n",
    "    cl.train()\n",
    "    for batch_idx, (data, target) in enumerate(train_dataloader):\n",
    "        target = np.argmax(target, axis=1)  # transform from one-hot to int\n",
    "        c_error,c_pred = train_classifier(cl,cl_opt, data.to(device), target.to(device))\n",
    "        e_losses.append(c_error.cpu().data.numpy())\n",
    "    acc = test_model(cl,test_dataloader)\n",
    "    print(\"Epoch \", e, \": Test accuracy: \", 100*acc, \"%\")\n",
    "\n",
    "print(\"Performance in the trained model: \")\n",
    "acc_test = test_model(cl,test_dataloader)\n",
    "print(\"Test accuracy: \", 100*acc_test, \"%\")\n",
    "print(\"FINISHED!!!\")"
   ]
  },
  {
   "cell_type": "code",
   "execution_count": null,
   "metadata": {},
   "outputs": [],
   "source": []
  },
  {
   "cell_type": "code",
   "execution_count": 24,
   "metadata": {},
   "outputs": [],
   "source": [
    "torch.save(cl.state_dict(), '../saved_models/Carlini/Vanilla/model_01.pth')"
   ]
  },
  {
   "cell_type": "markdown",
   "metadata": {},
   "source": [
    "### Create ART classifier"
   ]
  },
  {
   "cell_type": "code",
   "execution_count": 9,
   "metadata": {},
   "outputs": [],
   "source": [
    "# Create ART classifier with the TRAINED model\n",
    "criterion = nn.CrossEntropyLoss()\n",
    "optimizer = optim.Adam(cl.parameters(), lr=0.001, weight_decay=decay)\n",
    "\n",
    "classifier = PyTorchClassifier(\n",
    "    model=cl,\n",
    "    clip_values=(min_pixel_value, max_pixel_value),\n",
    "    loss=criterion,\n",
    "    optimizer=optimizer,\n",
    "    input_shape=(1, 28, 28),\n",
    "    nb_classes=10,\n",
    ")"
   ]
  },
  {
   "cell_type": "code",
   "execution_count": 23,
   "metadata": {},
   "outputs": [
    {
     "name": "stdout",
     "output_type": "stream",
     "text": [
      "Accuracy on benign test examples: 99.0 %\n"
     ]
    }
   ],
   "source": [
    "# Step 5: Evaluate the classifier on benign test examples\n",
    "\n",
    "predictions = classifier.predict(x_test)\n",
    "accuracy = np.sum(np.argmax(predictions, axis=1) == np.argmax(y_test, axis=1)) / len(y_test)\n",
    "print(\"Accuracy on benign test examples: {} %\".format(accuracy * 100))"
   ]
  },
  {
   "cell_type": "markdown",
   "metadata": {},
   "source": [
    "# Carlini L2"
   ]
  },
  {
   "cell_type": "markdown",
   "metadata": {},
   "source": [
    "### Generate adversarial samples"
   ]
  },
  {
   "cell_type": "code",
   "execution_count": 12,
   "metadata": {},
   "outputs": [],
   "source": [
    "# Generate adversarial test examples\n",
    "def CarliniL2(classifier, x_test, init_const):\n",
    "    start = time.time()\n",
    "    attack = CarliniL2Method(classifier=classifier,\n",
    "                            confidence=0.0,\n",
    "                            targeted=False,\n",
    "                            learning_rate=0.01,\n",
    "                            binary_search_steps=2,\n",
    "                            initial_const=init_const,\n",
    "                            batch_size=64)\n",
    "    x_test_adv = attack.generate(x=x_test)\n",
    "    end = time.time()\n",
    "    print(round((end-start)/60, 3), \"mins\")\n",
    "    \n",
    "    return x_test_adv\n",
    "\n",
    "# Calculate distance \n",
    "def L2distance(x_test, x_test_adv):\n",
    "    dist = 0\n",
    "    for test, adv_test in zip(x_test, x_test_adv):\n",
    "        dist += np.linalg.norm(test-adv_test)\n",
    "    dist /= len(x_test)\n",
    "    return dist"
   ]
  },
  {
   "cell_type": "code",
   "execution_count": 28,
   "metadata": {
    "scrolled": true
   },
   "outputs": [
    {
     "name": "stdout",
     "output_type": "stream",
     "text": [
      "5.614 mins\n",
      "6.597 mins\n"
     ]
    }
   ],
   "source": [
    "# constants = [0.1, 0.5, 0.6, 0.7, 0.8, 0.9, 1, 1.1, 1.2, 1.3, 1.4, 1.5, 10]\n",
    "constants = [0.5, 5]\n",
    "# BE CAREFULL adversarial_samples = dict()\n",
    "# adversarial_dist = dict()\n",
    "for init in constants:\n",
    "    x_test_adv = CarliniL2(classifier, x_test, init_const=init)\n",
    "    adversarial_samples[init] = x_test_adv\n",
    "    adversarial_dist[init] = L2distance(x_test, x_test_adv)"
   ]
  },
  {
   "cell_type": "markdown",
   "metadata": {},
   "source": [
    "### Adversarial test"
   ]
  },
  {
   "cell_type": "code",
   "execution_count": 30,
   "metadata": {
    "scrolled": true
   },
   "outputs": [
    {
     "name": "stdout",
     "output_type": "stream",
     "text": [
      "init_const: 0.1 - Accuracy on adversarial test examples: 98.32%\n",
      "init_const: 1.0 - Accuracy on adversarial test examples: 59.61%\n",
      "init_const: 10 - Accuracy on adversarial test examples: 5.72%\n",
      "init_const: 0.5 - Accuracy on adversarial test examples: 84.19%\n",
      "init_const: 5 - Accuracy on adversarial test examples: 9.84%\n"
     ]
    }
   ],
   "source": [
    "# Step 7: Evaluate the ART classifier on adversarial test examples\n",
    "results = dict()\n",
    "for init, x_test_adv in adversarial_samples.items():\n",
    "    predictions = classifier.predict(x_test_adv)\n",
    "    accuracy = np.sum(np.argmax(predictions, axis=1) == np.argmax(y_test, axis=1)) / len(y_test)\n",
    "    results[init] = accuracy*100\n",
    "    print(\"init_const: {} - Accuracy on adversarial test examples: {}%\".format(init, accuracy * 100))"
   ]
  },
  {
   "cell_type": "code",
   "execution_count": 31,
   "metadata": {},
   "outputs": [
    {
     "data": {
      "text/plain": [
       "{0.1: 0.004344006789766717,\n",
       " 1.0: 0.8614694091592683,\n",
       " 10: 3.511029097274877,\n",
       " 0.5: 0.22316662671320373,\n",
       " 5: 3.047060524386726}"
      ]
     },
     "execution_count": 31,
     "metadata": {},
     "output_type": "execute_result"
    }
   ],
   "source": [
    "adversarial_dist"
   ]
  },
  {
   "cell_type": "code",
   "execution_count": 17,
   "metadata": {},
   "outputs": [
    {
     "data": {
      "text/plain": [
       "<matplotlib.image.AxesImage at 0x1ab88d621c8>"
      ]
     },
     "execution_count": 17,
     "metadata": {},
     "output_type": "execute_result"
    },
    {
     "data": {
      "image/png": "[encoded data removed]",
      "text/plain": [
       "<Figure size 432x288 with 1 Axes>"
      ]
     },
     "metadata": {
      "image/png": {
       "height": 248,
       "width": 251
      },
      "needs_background": "light"
     },
     "output_type": "display_data"
    }
   ],
   "source": [
    "image = adversarial_samples[10][2].squeeze()\n",
    "plt.imshow(image, cmap=\"gray\")"
   ]
  },
  {
   "cell_type": "markdown",
   "metadata": {},
   "source": [
    "# Save adversarial data"
   ]
  },
  {
   "cell_type": "code",
   "execution_count": 25,
   "metadata": {},
   "outputs": [],
   "source": [
    "from pathlib import Path\n",
    "hdf5_dir = Path(\"../saved_models/Carlini/vanilla/adversarial_samples_model_01\")\n",
    "hdf5_dir.mkdir(parents=True, exist_ok=True)"
   ]
  },
  {
   "cell_type": "code",
   "execution_count": 150,
   "metadata": {},
   "outputs": [],
   "source": [
    "# CONSTANTS \n",
    "constants = [0.1, 0.2, 0.3, 0.4, 0.5, 0.6, 0.7, 0.8, 0.9, 1, 1.1, 1.2, 1.3, 1.4, 1.5, 10]"
   ]
  },
  {
   "cell_type": "code",
   "execution_count": 19,
   "metadata": {},
   "outputs": [],
   "source": [
    "def store_adversarial_data(images, init):\n",
    "    num_images = len(images)\n",
    "#     Create HDF5 file\n",
    "    file = h5py.File(hdf5_dir / f\"{init}.h5\", \"w\")\n",
    "#     Create dataset in the file\n",
    "    dataset = file.create_dataset(\n",
    "        \"images\", np.shape(images), h5py.h5t.IEEE_F32BE, data=images\n",
    "    )\n",
    "    file.close()\n",
    "    \n",
    "def read_adversarial_data(init):\n",
    "    images = []\n",
    "    file = h5py.File(hdf5_dir / f\"{init}.h5\", \"r+\")\n",
    "    images = np.array(file[\"/images\"]).astype(\"float32\")\n",
    "    file.close()\n",
    "    return images"
   ]
  },
  {
   "cell_type": "code",
   "execution_count": 29,
   "metadata": {},
   "outputs": [],
   "source": [
    "# STORE\n",
    "constants = [0.5, 5]\n",
    "for init in constants:\n",
    "    store_adversarial_data(adversarial_samples[init], init)"
   ]
  },
  {
   "cell_type": "code",
   "execution_count": 26,
   "metadata": {},
   "outputs": [],
   "source": [
    "# READ\n",
    "adversarial_test = dict()\n",
    "for init in constants:\n",
    "    adversarial_test[init] = read_adversarial_data(init)   "
   ]
  },
  {
   "cell_type": "code",
   "execution_count": 27,
   "metadata": {},
   "outputs": [
    {
     "name": "stdout",
     "output_type": "stream",
     "text": [
      "init_const: 0.1 - Accuracy on adversarial test examples: 98.32%\n",
      "init_const: 1.0 - Accuracy on adversarial test examples: 59.61%\n",
      "init_const: 10 - Accuracy on adversarial test examples: 5.72%\n"
     ]
    }
   ],
   "source": [
    "# TEST\n",
    "res = dict()\n",
    "for init, x_test_adv in adversarial_test.items():\n",
    "    predictions = classifier.predict(x_test_adv)\n",
    "    accuracy = np.sum(np.argmax(predictions, axis=1) == np.argmax(y_test, axis=1)) / len(y_test)\n",
    "    res[init] = accuracy*100\n",
    "    print(\"init_const: {} - Accuracy on adversarial test examples: {}%\".format(init, accuracy * 100))"
   ]
  },
  {
   "cell_type": "code",
   "execution_count": 157,
   "metadata": {},
   "outputs": [
    {
     "data": {
      "image/png": "[encoded data removed]",
      "text/plain": [
       "<Figure size 720x432 with 1 Axes>"
      ]
     },
     "metadata": {
      "image/png": {
       "height": 392,
       "width": 618
      },
      "needs_background": "light"
     },
     "output_type": "display_data"
    }
   ],
   "source": [
    "from collections import OrderedDict\n",
    "\n",
    "plt.figure(figsize=(10,6))\n",
    "results = OrderedDict(sorted(res.items()))\n",
    "x = list(results.keys())\n",
    "y = list(results.values())\n",
    "plt.plot(x[:-1], y[:-1], \"*-\", label='Vanilla model', color='darkblue')\n",
    "\n",
    "plt.yticks(np.arange(0, 110, step=10))\n",
    "plt.xticks(np.arange(0, 1.6, step=0.1))\n",
    "plt.title(\"Carlini attack on a vanilla model\")\n",
    "plt.xlabel(\"Constant c used\",fontsize=16)\n",
    "plt.ylabel(\"Accuracy\",fontsize=16)\n",
    "plt.legend(loc='upper right', frameon=False)\n",
    "plt.show()"
   ]
  },
  {
   "cell_type": "code",
   "execution_count": null,
   "metadata": {},
   "outputs": [],
   "source": []
  }
 ],
 "metadata": {
  "kernelspec": {
   "display_name": "FYP-TF-GPU-2.1",
   "language": "python",
   "name": "fyp"
  },
  "language_info": {
   "codemirror_mode": {
    "name": "ipython",
    "version": 3
   },
   "file_extension": ".py",
   "mimetype": "text/x-python",
   "name": "python",
   "nbconvert_exporter": "python",
   "pygments_lexer": "ipython3",
   "version": "3.7.6"
  }
 },
 "nbformat": 4,
 "nbformat_minor": 4
}
