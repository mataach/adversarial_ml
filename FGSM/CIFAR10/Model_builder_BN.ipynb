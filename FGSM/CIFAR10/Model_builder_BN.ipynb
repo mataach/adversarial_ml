{
 "cells": [
  {
   "cell_type": "markdown",
   "metadata": {},
   "source": [
    "### Imports"
   ]
  },
  {
   "cell_type": "code",
   "execution_count": 17,
   "metadata": {},
   "outputs": [],
   "source": [
    "import torch\n",
    "import torchvision\n",
    "import torch.nn as nn\n",
    "import torchvision.transforms as transforms\n",
    "import torch.optim as optim\n",
    "import torch.nn.functional as F\n",
    "\n",
    "\n",
    "import matplotlib.pyplot as plt\n",
    "import numpy as np\n",
    "\n",
    "device = torch.device(\"cuda:0\" if torch.cuda.is_available() else \"cpu\")"
   ]
  },
  {
   "cell_type": "markdown",
   "metadata": {},
   "source": [
    "### Dataset"
   ]
  },
  {
   "cell_type": "code",
   "execution_count": 18,
   "metadata": {},
   "outputs": [
    {
     "name": "stdout",
     "output_type": "stream",
     "text": [
      "Files already downloaded and verified\n",
      "Files already downloaded and verified\n"
     ]
    }
   ],
   "source": [
    "transform_train = transforms.Compose([\n",
    "    transforms.RandomCrop(32, padding=4),\n",
    "    transforms.RandomHorizontalFlip(),\n",
    "    transforms.ToTensor(),\n",
    "    transforms.Normalize((0.4914, 0.4822, 0.4465), (0.2023, 0.1994, 0.2010)),\n",
    "])\n",
    "\n",
    "# Normalize the test set same as training set without augmentation\n",
    "transform_test = transforms.Compose([\n",
    "    transforms.ToTensor(),\n",
    "    transforms.Normalize((0.4914, 0.4822, 0.4465), (0.2023, 0.1994, 0.2010)),\n",
    "])\n",
    "\n",
    "trainset = torchvision.datasets.CIFAR10(root='./data', train=True,\n",
    "                                        download=True, transform=transform_train)\n",
    "trainloader = torch.utils.data.DataLoader(trainset, batch_size=8,\n",
    "                                          shuffle=True, num_workers=2)\n",
    "\n",
    "testset = torchvision.datasets.CIFAR10(root='./data', train=False,\n",
    "                                       download=True, transform=transform_test)\n",
    "testloader = torch.utils.data.DataLoader(testset, batch_size=8,\n",
    "                                         shuffle=False, num_workers=2)\n",
    "\n",
    "classes = ('plane', 'car', 'bird', 'cat',\n",
    "           'deer', 'dog', 'frog', 'horse', 'ship', 'truck')"
   ]
  },
  {
   "cell_type": "markdown",
   "metadata": {},
   "source": [
    "## Model"
   ]
  },
  {
   "cell_type": "code",
   "execution_count": 19,
   "metadata": {},
   "outputs": [],
   "source": [
    "class Model(nn.Module):\n",
    "    def __init__(self):\n",
    "        super(Model, self).__init__()\n",
    "\n",
    "        self.conv_layer = nn.Sequential(\n",
    "\n",
    "            # Conv Layer block 1\n",
    "            nn.Conv2d(in_channels=3, out_channels=32, kernel_size=3, padding=1),\n",
    "            nn.BatchNorm2d(32),\n",
    "            nn.ReLU(inplace=True),\n",
    "            nn.Conv2d(in_channels=32, out_channels=64, kernel_size=3, padding=1),\n",
    "            nn.ReLU(inplace=True),\n",
    "            nn.MaxPool2d(kernel_size=2, stride=2),\n",
    "\n",
    "            # Conv Layer block 2\n",
    "            nn.Conv2d(in_channels=64, out_channels=128, kernel_size=3, padding=1),\n",
    "            nn.BatchNorm2d(128),\n",
    "            nn.ReLU(inplace=True),\n",
    "            nn.Conv2d(in_channels=128, out_channels=128, kernel_size=3, padding=1),\n",
    "            nn.ReLU(inplace=True),\n",
    "            nn.MaxPool2d(kernel_size=2, stride=2),\n",
    "            nn.Dropout2d(p=0.05),\n",
    "\n",
    "            # Conv Layer block 3\n",
    "            nn.Conv2d(in_channels=128, out_channels=256, kernel_size=3, padding=1),\n",
    "            nn.BatchNorm2d(256),\n",
    "            nn.ReLU(inplace=True),\n",
    "            nn.Conv2d(in_channels=256, out_channels=256, kernel_size=3, padding=1),\n",
    "            nn.ReLU(inplace=True),\n",
    "            nn.MaxPool2d(kernel_size=2, stride=2),\n",
    "        )\n",
    "        \n",
    "        self.dropout = nn.Dropout(p=0.1)\n",
    "        self.fc1 = nn.Linear(4096, 1024)\n",
    "        self.fc2 = nn.Linear(1024, 512)\n",
    "        self.fc3 = nn.Linear(512, 10)\n",
    "\n",
    "#         self.fc_layer = nn.Sequential(\n",
    "#             nn.Dropout(p=0.1),\n",
    "#             nn.Linear(4096, 1024),\n",
    "#             nn.ReLU(inplace=True),\n",
    "#             nn.Linear(1024, 512),\n",
    "#             nn.ReLU(inplace=True),\n",
    "#             nn.Dropout(p=0.1),\n",
    "#             nn.Linear(512, 10)\n",
    "#         )\n",
    "\n",
    "\n",
    "    def forward(self, x):\n",
    "        x = self.conv_layer(x)\n",
    "        x = x.view(x.size(0), -1)\n",
    "#         x = self.fc_layer(x)\n",
    "        x = self.dropout(x)\n",
    "        x = F.relu(self.fc1(x))\n",
    "        x = F.relu(self.fc2(x))\n",
    "        x = self.dropout(x)\n",
    "        x = self.fc3(x)\n",
    "        return x\n"
   ]
  },
  {
   "cell_type": "code",
   "execution_count": 20,
   "metadata": {},
   "outputs": [],
   "source": [
    "def train_classifier(cl, opt, criterion, x, y):\n",
    "    x.to(device)\n",
    "    y.to(device)\n",
    "    opt.zero_grad()\n",
    "    pred = cl(x)\n",
    "    pred.to(device)\n",
    "    loss = criterion(pred, y)\n",
    "    loss.backward()\n",
    "    opt.step()\n",
    "    return loss, pred\n",
    "\n",
    "def test_model(cl,test_loader): \n",
    "    correct = 0\n",
    "    with torch.no_grad():\n",
    "        cl.eval()\n",
    "        for data, target in test_loader:\n",
    "            output = cl(data.to(device))\n",
    "            pred = output.data.max(1, keepdim=True)[1].to(\"cpu\")\n",
    "            correct += pred.eq(target.data.view_as(pred)).sum()\n",
    "        acc_test = float(correct.numpy() / len(test_loader.dataset))\n",
    "        \n",
    "    return acc_test"
   ]
  },
  {
   "cell_type": "code",
   "execution_count": 21,
   "metadata": {},
   "outputs": [
    {
     "name": "stdout",
     "output_type": "stream",
     "text": [
      "Epoch  0 : Test accuracy:  64.34 %\n",
      "Epoch  1 : Test accuracy:  73.46000000000001 %\n",
      "Epoch  2 : Test accuracy:  75.66000000000001 %\n",
      "Epoch  3 : Test accuracy:  80.31 %\n",
      "Epoch  4 : Test accuracy:  80.72 %\n",
      "Epoch  5 : Test accuracy:  82.08 %\n",
      "Epoch  6 : Test accuracy:  84.36 %\n",
      "Epoch  7 : Test accuracy:  85.66 %\n",
      "Epoch  8 : Test accuracy:  85.49 %\n",
      "Epoch  9 : Test accuracy:  85.8 %\n",
      "Epoch  10 : Test accuracy:  86.03 %\n",
      "Epoch  11 : Test accuracy:  86.87 %\n",
      "Epoch  12 : Test accuracy:  87.52 %\n",
      "Epoch  13 : Test accuracy:  88.42999999999999 %\n",
      "Epoch  14 : Test accuracy:  88.02 %\n",
      "Epoch  15 : Test accuracy:  88.44999999999999 %\n",
      "Epoch  16 : Test accuracy:  88.55 %\n",
      "Epoch  17 : Test accuracy:  88.63 %\n",
      "Epoch  18 : Test accuracy:  89.11 %\n",
      "Epoch  19 : Test accuracy:  89.16 %\n",
      "Performance in the trained model: \n",
      "Test accuracy:  89.16 %\n",
      "FINISHED!!!\n"
     ]
    }
   ],
   "source": [
    "EPOCHS = 20\n",
    "\n",
    "model = Model().to(device)\n",
    "\n",
    "optimizer = optim.SGD(model.parameters(), lr=0.001, momentum=0.9)\n",
    "criterion = nn.CrossEntropyLoss()\n",
    "\n",
    "for e in range(EPOCHS):\n",
    "    model.train()\n",
    "    for batch_idx, (data, target) in enumerate(trainloader):\n",
    "        c_error,c_pred = train_classifier(model, optimizer, criterion, data.to(device), target.to(device))\n",
    "    acc = test_model(model, testloader)\n",
    "    print(\"Epoch \", e, \": Test accuracy: \", 100*acc, \"%\")\n",
    "\n",
    "print(\"Performance in the trained model: \")\n",
    "acc_test = test_model(model, testloader)\n",
    "print(\"Test accuracy: \", 100*acc_test, \"%\")\n",
    "print(\"FINISHED!!!\")"
   ]
  },
  {
   "cell_type": "code",
   "execution_count": 22,
   "metadata": {},
   "outputs": [],
   "source": [
    "torch.save(model.state_dict(), 'model_02_e20.pth')"
   ]
  },
  {
   "cell_type": "code",
   "execution_count": null,
   "metadata": {},
   "outputs": [],
   "source": []
  }
 ],
 "metadata": {
  "kernelspec": {
   "display_name": "FYP-TF-GPU-2.1",
   "language": "python",
   "name": "fyp"
  },
  "language_info": {
   "codemirror_mode": {
    "name": "ipython",
    "version": 3
   },
   "file_extension": ".py",
   "mimetype": "text/x-python",
   "name": "python",
   "nbconvert_exporter": "python",
   "pygments_lexer": "ipython3",
   "version": "3.7.6"
  }
 },
 "nbformat": 4,
 "nbformat_minor": 4
}
