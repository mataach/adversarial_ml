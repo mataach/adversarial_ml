{
 "cells": [
  {
   "cell_type": "markdown",
   "metadata": {},
   "source": [
    "# Adversarial Training"
   ]
  },
  {
   "cell_type": "markdown",
   "metadata": {},
   "source": [
    "### Imports"
   ]
  },
  {
   "cell_type": "code",
   "execution_count": 10,
   "metadata": {},
   "outputs": [],
   "source": [
    "from __future__ import print_function\n",
    "import numpy as np\n",
    "import torch\n",
    "import torchvision\n",
    "import torch.nn as nn\n",
    "import torch.nn.functional as F\n",
    "import torch.optim as optim\n",
    "from torchvision import datasets, transforms, utils\n",
    "from torch.utils.data import TensorDataset, DataLoader\n",
    "import matplotlib.pyplot as plt\n",
    "import time\n",
    "import h5py\n",
    "from pathlib import Path\n",
    "import os\n",
    "\n",
    "from art.attacks import FastGradientMethod\n",
    "from art.classifiers import PyTorchClassifier\n",
    "from art.utils import load_cifar10\n",
    "\n",
    "\n",
    "%matplotlib inline\n",
    "%config InlineBackend.figure_format='retina'\n",
    "device = torch.device(\"cuda:0\" if torch.cuda.is_available() else \"cpu\")"
   ]
  },
  {
   "cell_type": "markdown",
   "metadata": {},
   "source": [
    "### Dataset"
   ]
  },
  {
   "cell_type": "code",
   "execution_count": 11,
   "metadata": {},
   "outputs": [],
   "source": [
    "# Read CIFAR10 dataset\n",
    "(x_train, y_train), (x_test, y_test), min_, max_ = load_cifar10()\n",
    "\n",
    "x_train = np.swapaxes(x_train, 1, 3).astype(np.float32)\n",
    "x_test = np.swapaxes(x_test, 1, 3).astype(np.float32)\n",
    "\n",
    "train_dataset = TensorDataset(torch.Tensor(x_train), torch.Tensor(y_train))\n",
    "train_dataloader = DataLoader(train_dataset, batch_size=128)\n",
    "\n",
    "test_dataset = TensorDataset(torch.Tensor(x_test), torch.Tensor(y_test))\n",
    "test_dataloader = DataLoader(test_dataset, batch_size=1000)"
   ]
  },
  {
   "cell_type": "markdown",
   "metadata": {},
   "source": [
    "### Model"
   ]
  },
  {
   "cell_type": "code",
   "execution_count": 16,
   "metadata": {},
   "outputs": [],
   "source": [
    "class Model(nn.Module):\n",
    "    def __init__(self):\n",
    "        super(Model, self).__init__()\n",
    "\n",
    "        self.conv_layer = nn.Sequential(\n",
    "\n",
    "            # Conv Layer block 1\n",
    "            nn.Conv2d(in_channels=3, out_channels=32, kernel_size=3, padding=1),\n",
    "            nn.ReLU(inplace=True),\n",
    "            nn.Conv2d(in_channels=32, out_channels=64, kernel_size=3, padding=1),\n",
    "            nn.ReLU(inplace=True),\n",
    "            nn.MaxPool2d(kernel_size=2, stride=2),\n",
    "\n",
    "            # Conv Layer block 2\n",
    "            nn.Conv2d(in_channels=64, out_channels=128, kernel_size=3, padding=1),\n",
    "            nn.ReLU(inplace=True),\n",
    "            nn.Conv2d(in_channels=128, out_channels=128, kernel_size=3, padding=1),\n",
    "            nn.ReLU(inplace=True),\n",
    "            nn.MaxPool2d(kernel_size=2, stride=2),\n",
    "            nn.Dropout2d(p=0.05),\n",
    "\n",
    "            # Conv Layer block 3\n",
    "            nn.Conv2d(in_channels=128, out_channels=256, kernel_size=3, padding=1),\n",
    "            nn.ReLU(inplace=True),\n",
    "            nn.Conv2d(in_channels=256, out_channels=256, kernel_size=3, padding=1),\n",
    "            nn.ReLU(inplace=True),\n",
    "            nn.MaxPool2d(kernel_size=2, stride=2),\n",
    "        )\n",
    "        \n",
    "        self.dropout = nn.Dropout(p=0.1)\n",
    "        self.fc1 = nn.Linear(4096, 1024)\n",
    "        self.fc2 = nn.Linear(1024, 512)\n",
    "        self.fc3 = nn.Linear(512, 10)\n",
    "        \n",
    "\n",
    "    def forward(self, x):\n",
    "        x = self.conv_layer(x)\n",
    "        x = x.view(x.size(0), -1)\n",
    "        x = self.dropout(x)\n",
    "        x = F.relu(self.fc1(x))\n",
    "        x = F.relu(self.fc2(x))\n",
    "        x = self.dropout(x)\n",
    "        x = self.fc3(x)\n",
    "        return x\n",
    "    \n",
    "def train_classifier(cl, opt, x, y):\n",
    "    x.to(device)\n",
    "    y.to(device)\n",
    "    #Reset gradients\n",
    "    opt.zero_grad()\n",
    "    #Train on real data\n",
    "    pred = cl(x)\n",
    "    pred.to(device)\n",
    "    err = F.nll_loss(F.log_softmax(pred, dim=0), y)\n",
    "    err.backward()\n",
    "    #Update optimizer\n",
    "    opt.step()\n",
    "    return err, pred\n",
    "\n",
    "def test_model(cl,test_loader): \n",
    "    correct = 0\n",
    "    with torch.no_grad():\n",
    "        cl.eval()\n",
    "        for data, target in test_loader:\n",
    "            output = cl(data.to(device))\n",
    "            pred = output.data.max(1, keepdim=True)[1].to(\"cpu\")\n",
    "            target = np.argmax(target, axis=1)\n",
    "            correct += pred.eq(target.data.view_as(pred)).sum()\n",
    "        acc_test = float(correct.numpy() / len(test_loader.dataset))\n",
    "        \n",
    "    return acc_test"
   ]
  },
  {
   "cell_type": "markdown",
   "metadata": {},
   "source": [
    "### FGSM attack"
   ]
  },
  {
   "cell_type": "code",
   "execution_count": 17,
   "metadata": {},
   "outputs": [],
   "source": [
    "def make_classifier(model):\n",
    "    criterion = nn.CrossEntropyLoss()\n",
    "    optimizer = optim.SGD(model.parameters(), lr=0.01, momentum=0.5)\n",
    "    # Make a classifier wrapper!\n",
    "    classifier = PyTorchClassifier(\n",
    "        model=model,\n",
    "        clip_values=(min_, max_),\n",
    "        loss=criterion,\n",
    "        optimizer=optimizer,\n",
    "        input_shape=(3, 32, 32),\n",
    "        nb_classes=10,\n",
    "    )\n",
    "    return classifier\n",
    "\n",
    "\n",
    "\n",
    "def adversarial_training(model, device, data, epsilon):\n",
    "    dim = data.size()\n",
    "    batch = torch.Tensor()\n",
    "    fgsm = np.random.choice([0, 1], size=dim[0], p=[.5, .5])\n",
    "    for image, is_fgsm in zip(data, fgsm):\n",
    "        # VIP Reshape image for model compatibility\n",
    "        image = image.view(1, dim[1], dim[2], dim[3])\n",
    "        image, batch = image.to(device), batch.to(device)\n",
    "        if is_fgsm:\n",
    "            classifier = make_classifier(model)\n",
    "            adv_crafter = FastGradientMethod(classifier, eps=epsilon)\n",
    "            perturbed_image = adv_crafter.generate(x=image.cpu().detach().numpy())\n",
    "            batch = torch.cat((batch, torch.Tensor(perturbed_image).to(device)), dim=0)\n",
    "        else:\n",
    "            batch = torch.cat((batch, image), dim=0)\n",
    "    return batch"
   ]
  },
  {
   "cell_type": "markdown",
   "metadata": {},
   "source": [
    "### Training"
   ]
  },
  {
   "cell_type": "code",
   "execution_count": 18,
   "metadata": {},
   "outputs": [
    {
     "name": "stdout",
     "output_type": "stream",
     "text": [
      "Epoch  1 : Test accuracy:  46.85 %\n",
      "Epoch  2 : Test accuracy:  58.29 %\n",
      "Epoch  3 : Test accuracy:  64.60000000000001 %\n",
      "Epoch  4 : Test accuracy:  67.31 %\n",
      "Epoch  5 : Test accuracy:  70.54 %\n",
      "Epoch  6 : Test accuracy:  71.69 %\n",
      "Epoch  7 : Test accuracy:  71.66 %\n",
      "Epoch  8 : Test accuracy:  70.00999999999999 %\n",
      "Epoch  9 : Test accuracy:  73.42 %\n",
      "Epoch  10 : Test accuracy:  73.35000000000001 %\n",
      "Epoch  11 : Test accuracy:  73.44000000000001 %\n",
      "Epoch  12 : Test accuracy:  74.15 %\n",
      "Epoch  13 : Test accuracy:  73.52 %\n",
      "Epoch  14 : Test accuracy:  74.03999999999999 %\n",
      "Epoch  15 : Test accuracy:  73.79 %\n",
      "Epoch  16 : Test accuracy:  71.82 %\n",
      "Epoch  17 : Test accuracy:  73.55000000000001 %\n",
      "Epoch  18 : Test accuracy:  72.99 %\n",
      "Epoch  19 : Test accuracy:  72.28999999999999 %\n",
      "Epoch  20 : Test accuracy:  72.38 %\n",
      "Performance in the trained model: \n",
      "Test accuracy:  72.38 %\n",
      "FINISHED!!!\n"
     ]
    }
   ],
   "source": [
    "num_epochs = 20\n",
    "e_losses = [] \n",
    "\n",
    "cl = Model().to(device)\n",
    "\n",
    "# optimizer\n",
    "cl_opt = optim.Adam(cl.parameters(), lr=0.001, weight_decay=0)\n",
    "criterion = nn.CrossEntropyLoss()\n",
    "optimizer = optim.SGD(cl.parameters(), lr=0.01, momentum=0.5)\n",
    "\n",
    "\n",
    "for e in range(num_epochs):\n",
    "    cl.train()\n",
    "    for batch_idx, (data, target) in enumerate(train_dataloader):\n",
    "        target = np.argmax(target, axis=1)  # transform from one-hot to int\n",
    "        new_batch = adversarial_training(cl, device, data, epsilon=0.15)\n",
    "        c_error,c_pred = train_classifier(cl,cl_opt, new_batch.to(device), target.to(device)) # train with new_batchth new_batch\n",
    "        e_losses.append(c_error.cpu().data.numpy())\n",
    "    acc = test_model(cl,test_dataloader)\n",
    "    print(\"Epoch \", e+1, \": Test accuracy: \", 100*acc, \"%\")\n",
    "\n",
    "print(\"Performance in the trained model: \")\n",
    "acc_test = test_model(cl,test_dataloader)\n",
    "print(\"Test accuracy: \", 100*acc_test, \"%\")\n",
    "print(\"FINISHED!!!\")"
   ]
  },
  {
   "cell_type": "code",
   "execution_count": 19,
   "metadata": {},
   "outputs": [],
   "source": [
    "path = Path(\"C:/Users/Matach/Documents/Imperial College London/FYP/saved_models/CIFAR10/FGSM Adversarial/\")\n",
    "file = \"epsilon_15_2.pth\"\n",
    "torch.save(cl.state_dict(), os.path.join(path, file))\n"
   ]
  },
  {
   "cell_type": "code",
   "execution_count": null,
   "metadata": {},
   "outputs": [],
   "source": []
  }
 ],
 "metadata": {
  "kernelspec": {
   "display_name": "FYP-TF-GPU-2.1",
   "language": "python",
   "name": "fyp"
  },
  "language_info": {
   "codemirror_mode": {
    "name": "ipython",
    "version": 3
   },
   "file_extension": ".py",
   "mimetype": "text/x-python",
   "name": "python",
   "nbconvert_exporter": "python",
   "pygments_lexer": "ipython3",
   "version": "3.7.6"
  }
 },
 "nbformat": 4,
 "nbformat_minor": 4
}
