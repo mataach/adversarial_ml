{
 "cells": [
  {
   "cell_type": "markdown",
   "metadata": {
    "colab_type": "text",
    "id": "KMYOrufF0VRW"
   },
   "source": [
    "# Quantization"
   ]
  },
  {
   "cell_type": "markdown",
   "metadata": {
    "colab_type": "text",
    "id": "sUmfgMxY0VOs"
   },
   "source": [
    "### Imports"
   ]
  },
  {
   "cell_type": "code",
   "execution_count": 0,
   "metadata": {
    "colab": {
     "base_uri": "https://localhost:8080/",
     "height": 34
    },
    "colab_type": "code",
    "id": "DReMGzqjvhHJ",
    "outputId": "ac6a8893-8428-4893-a94a-8d054d934278"
   },
   "outputs": [
    {
     "name": "stdout",
     "output_type": "stream",
     "text": [
      "/content/drive/My Drive/FYP\n"
     ]
    }
   ],
   "source": [
    "from __future__ import print_function\n",
    "import torch\n",
    "import torchvision\n",
    "import torch.nn as nn\n",
    "import torch.quantization\n",
    "import torch.nn.functional as F\n",
    "import torch.optim as optim\n",
    "from torch.autograd import Variable\n",
    "from torch.quantization import QuantStub, DeQuantStub\n",
    "from torch import Tensor\n",
    "from torchvision import datasets, transforms\n",
    "import numpy as np\n",
    "from sklearn import metrics\n",
    "import math\n",
    "import os\n",
    "import matplotlib.pyplot as plt\n",
    "\n",
    "%matplotlib inline\n",
    "%config InlineBackend.figure_format='retina'\n",
    "%cd '/content/drive/My Drive/FYP'\n",
    "\n",
    "device = torch.device('cpu')"
   ]
  },
  {
   "cell_type": "markdown",
   "metadata": {
    "colab_type": "text",
    "id": "M9yuXLpz0Y92"
   },
   "source": [
    "### Dataset"
   ]
  },
  {
   "cell_type": "code",
   "execution_count": 0,
   "metadata": {
    "colab": {},
    "colab_type": "code",
    "id": "IXrhNH_0wpwU"
   },
   "outputs": [],
   "source": [
    "batch_size_train = 64\n",
    "batch_size_test = 1000\n",
    "\n",
    "train_loader = torch.utils.data.DataLoader(\n",
    "  torchvision.datasets.MNIST('./', train=True, download=True,\n",
    "                             transform=torchvision.transforms.Compose([\n",
    "                               torchvision.transforms.ToTensor(),\n",
    "                               torchvision.transforms.Normalize(\n",
    "                                 (0.5,), (0.5,))\n",
    "                             ])),\n",
    "  batch_size=batch_size_train, shuffle=True)\n",
    "\n",
    "test_loader = torch.utils.data.DataLoader(\n",
    "  torchvision.datasets.MNIST('./', train=False, download=True,\n",
    "                             transform=torchvision.transforms.Compose([\n",
    "                               torchvision.transforms.ToTensor(),\n",
    "                               torchvision.transforms.Normalize(\n",
    "                                 (0.5,), (0.5,))\n",
    "                             ])),\n",
    "  batch_size=batch_size_test, shuffle=True)"
   ]
  },
  {
   "cell_type": "markdown",
   "metadata": {
    "colab_type": "text",
    "id": "gECaIL6z0d2s"
   },
   "source": [
    "### Load model"
   ]
  },
  {
   "cell_type": "code",
   "execution_count": 0,
   "metadata": {
    "colab": {},
    "colab_type": "code",
    "id": "7iXqxio7wsje"
   },
   "outputs": [],
   "source": [
    "pretrained_model = 'vanilla_model_4e.pth'"
   ]
  },
  {
   "cell_type": "markdown",
   "metadata": {
    "colab_type": "text",
    "id": "9YsKeQTEZxJ9"
   },
   "source": [
    "## Quantization-aware training"
   ]
  },
  {
   "cell_type": "code",
   "execution_count": 0,
   "metadata": {
    "colab": {},
    "colab_type": "code",
    "id": "TJJ6QaOadseN"
   },
   "outputs": [],
   "source": [
    "class Classifier(nn.Module):\n",
    "    def __init__(self):\n",
    "        super(Classifier, self).__init__()\n",
    "        self.conv1 = nn.Conv2d(1, 10, kernel_size=5)\n",
    "        self.conv2 = nn.Conv2d(10, 20, kernel_size=5)\n",
    "        self.conv2_drop = nn.Dropout2d()\n",
    "        self.fc1 = nn.Linear(320, 512)\n",
    "        self.fc2 = nn.Linear(512, 200)\n",
    "        self.fc3 = nn.Linear(200,10)\n",
    "        \n",
    "\n",
    "    def forward(self, x):\n",
    "        x = F.relu(F.max_pool2d(self.conv1(x), 2))\n",
    "        x = F.relu(F.max_pool2d(self.conv2_drop(self.conv2(x)), 2))\n",
    "        x = x.view(-1, 320)\n",
    "        x = F.relu(self.fc1(x))\n",
    "        x = F.dropout(x, training=self.training)\n",
    "        x = F.relu(self.fc2(x))\n",
    "        x = F.dropout(x, training=self.training)\n",
    "        x = self.fc3(x)\n",
    "        return x\n",
    "    \n",
    "\n",
    "def train_classifier(cl, opt, x, y):\n",
    "    x.to(device)\n",
    "    y.to(device)\n",
    "    opt.zero_grad()\n",
    "    pred = cl(x)\n",
    "    pred.to(device)\n",
    "    err = criterion(pred, y)\n",
    "    err.backward()\n",
    "    opt.step()\n",
    "    return err, pred\n",
    "\n",
    "def test_model(cl,test_loader): \n",
    "    correct = 0\n",
    "    with torch.no_grad():\n",
    "        cl.eval()\n",
    "        for data, target in test_loader:\n",
    "            output = cl(data.to(device))\n",
    "            pred = output.data.max(1, keepdim=True)[1].to(\"cpu\")\n",
    "            correct += pred.eq(target.data.view_as(pred)).sum()\n",
    "        acc_test = float(correct.numpy() / len(test_loader.dataset))\n",
    "        \n",
    "    return acc_test\n",
    "\n",
    "def print_size_of_model(model):\n",
    "  torch.save(model.state_dict(), 'temp.p')\n",
    "  print('Size (KB):', os.path.getsize(\"temp.p\")/1e3)\n",
    "  os.remove('temp.p')"
   ]
  },
  {
   "cell_type": "code",
   "execution_count": 0,
   "metadata": {
    "colab": {
     "base_uri": "https://localhost:8080/",
     "height": 190
    },
    "colab_type": "code",
    "id": "0F3MKGfhZyHk",
    "outputId": "9f04f7ac-8c8d-4f63-f6eb-51714b7e6a61"
   },
   "outputs": [
    {
     "name": "stderr",
     "output_type": "stream",
     "text": [
      "/usr/local/lib/python3.6/dist-packages/torch/quantization/quantize.py:147: UserWarning: None of the submodule got qconfig applied. Make sure you passed correct configuration through `qconfig_dict` or by assigning the `.qconfig` attribute directly on submodules\n",
      "  warnings.warn(\"None of the submodule got qconfig applied. Make sure you \"\n"
     ]
    },
    {
     "name": "stdout",
     "output_type": "stream",
     "text": [
      "Epoch  0 : Test accuracy:  96.82 %\n",
      "Epoch  1 : Test accuracy:  97.14 %\n",
      "Epoch  2 : Test accuracy:  97.63 %\n",
      "Epoch  3 : Test accuracy:  98.02 %\n",
      "Performance in the trained model\n",
      "Test Accuracy:  98.02 %\n",
      "FINISHED!!!\n"
     ]
    }
   ],
   "source": [
    "EPOCHS = 4\n",
    "BATCH_SIZE = 32\n",
    "\n",
    "qat_model = Classifier().to(device)\n",
    "qat_model.config = torch.quantization.get_default_qat_qconfig('fbgemm')\n",
    "# prepare_qat performs the “fake quantization”, preparing the model for quantization-aware training\n",
    "torch.quantization.prepare_qat(qat_model, inplace=True)\n",
    "\n",
    "criterion = nn.CrossEntropyLoss()\n",
    "optimizer = optim.Adam(qat_model.parameters(), lr=.001, weight_decay=1e-04)\n",
    "\n",
    "for e in range(EPOCHS):\n",
    "  qat_model.train()\n",
    "  for batch_idx, (data, target) in enumerate(train_loader):\n",
    "    error, pred = train_classifier(qat_model, optimizer, data.to(device), target.to(device))\n",
    "  # Check accuracy after each epoch\n",
    "  quantized_model = torch.quantization.convert(qat_model.eval(), inplace=False)\n",
    "  acc = test_model(quantized_model, test_loader)\n",
    "  print(\"Epoch \", e, \": Test accuracy: \", 100*acc, \"%\")\n",
    "print(\"Performance in the trained model\")\n",
    "print('Test Accuracy: ', test_model(quantized_model, test_loader)*100, '%')\n",
    "print(\"FINISHED!!!\")"
   ]
  },
  {
   "cell_type": "code",
   "execution_count": 0,
   "metadata": {
    "colab": {},
    "colab_type": "code",
    "id": "qUWlqn4PDJCe"
   },
   "outputs": [],
   "source": [
    "torch.save(qat_model.state_dict(), 'qat_model_wd_1e-04.pth')"
   ]
  },
  {
   "cell_type": "markdown",
   "metadata": {
    "colab_type": "text",
    "id": "ZqfJP5an15_0"
   },
   "source": [
    "## Post-training static quantization"
   ]
  },
  {
   "cell_type": "code",
   "execution_count": 0,
   "metadata": {
    "colab": {
     "base_uri": "https://localhost:8080/",
     "height": 221
    },
    "colab_type": "code",
    "id": "Jk1-ug4Kwsgh",
    "outputId": "5efdb9cf-020d-42a3-e6a0-9d1ba496939a"
   },
   "outputs": [
    {
     "name": "stdout",
     "output_type": "stream",
     "text": [
      "Classifier(\n",
      "  (conv1): Conv2d(1, 10, kernel_size=(5, 5), stride=(1, 1))\n",
      "  (conv2): Conv2d(10, 20, kernel_size=(5, 5), stride=(1, 1))\n",
      "  (conv2_drop): Dropout2d(p=0.5, inplace=False)\n",
      "  (fc1): Linear(in_features=320, out_features=512, bias=True)\n",
      "  (fc2): Linear(in_features=512, out_features=200, bias=True)\n",
      "  (fc3): Linear(in_features=200, out_features=10, bias=True)\n",
      "  (quant): QuantStub()\n",
      "  (dequant): DeQuantStub()\n",
      ")\n",
      "Size (KB): 1098.462\n",
      "Test Accuracy:  98.76 %\n"
     ]
    }
   ],
   "source": [
    "class Classifier(nn.Module):\n",
    "    def __init__(self):\n",
    "        super(Classifier, self).__init__()\n",
    "        self.conv1 = nn.Conv2d(1, 10, kernel_size=5)\n",
    "        self.conv2 = nn.Conv2d(10, 20, kernel_size=5)\n",
    "        self.conv2_drop = nn.Dropout2d()\n",
    "        self.fc1 = nn.Linear(320, 512)\n",
    "        self.fc2 = nn.Linear(512, 200)\n",
    "        self.fc3 = nn.Linear(200,10)\n",
    "\n",
    "        # Insert QuantStub and DeQuantStub at the beginning and end of the network.\n",
    "        self.quant = QuantStub()\n",
    "        self.dequant = DeQuantStub()\n",
    "        \n",
    "\n",
    "    def forward(self, x):\n",
    "        x = self.quant(x)\n",
    "        x = F.relu(F.max_pool2d(self.conv1(x), 2))\n",
    "        x = F.relu(F.max_pool2d(self.conv2_drop(self.conv2(x)), 2))\n",
    "        x = x.reshape(-1, 320)\n",
    "        x = F.relu(self.fc1(x))\n",
    "        x = F.dropout(x, training=self.training)\n",
    "        x = F.relu(self.fc2(x))\n",
    "        x = F.dropout(x, training=self.training)\n",
    "        x = self.fc3(x)\n",
    "        return self.dequant(x)\n",
    "    \n",
    "\n",
    "def train_classifier(cl, opt, x, y):\n",
    "    x.to(device)\n",
    "    y.to(device)\n",
    "    opt.zero_grad()\n",
    "    pred = cl(x)\n",
    "    pred.to(device)\n",
    "    err = criterion(pred, y)\n",
    "    err.backward()\n",
    "    opt.step()\n",
    "    return err, pred\n",
    "\n",
    "def test_model(cl,test_loader): \n",
    "    correct = 0\n",
    "    with torch.no_grad():\n",
    "        cl.eval()\n",
    "        for data, target in test_loader:\n",
    "            output = cl(data.to(device))\n",
    "            pred = output.data.max(1, keepdim=True)[1].to(\"cpu\")\n",
    "            correct += pred.eq(target.data.view_as(pred)).sum()\n",
    "        acc_test = float(correct.numpy() / len(test_loader.dataset))\n",
    "        \n",
    "    return acc_test\n",
    "\n",
    "def print_size_of_model(model):\n",
    "  torch.save(model.state_dict(), 'temp.p')\n",
    "  print('Size (KB):', os.path.getsize(\"temp.p\")/1e3)\n",
    "  os.remove('temp.p')\n",
    "\n",
    "# Substitute for the log_softmax(x, dim=1) and F.nll_loss(pred, y) due to CPU constraints\n",
    "criterion = nn.CrossEntropyLoss()\n",
    "\n",
    "# Initialize the model.\n",
    "model = Classifier().to(device)\n",
    "\n",
    "# Load pre-trained model\n",
    "model.load_state_dict(torch.load(pretrained_model, map_location='cpu'))\n",
    "\n",
    "# Set the model in evaluation mode. In this case this is for the Dropout layers\n",
    "model.eval()\n",
    "\n",
    "# Print size and accuracy of the model\n",
    "print(model)\n",
    "print_size_of_model(model)\n",
    "print('Test Accuracy: ', test_model(model, test_loader)*100, '%')"
   ]
  },
  {
   "cell_type": "code",
   "execution_count": 0,
   "metadata": {
    "colab": {
     "base_uri": "https://localhost:8080/",
     "height": 122
    },
    "colab_type": "code",
    "id": "ZLlzxndKwsc6",
    "outputId": "34d37e3b-9efb-4e44-bdf8-68971ad94e39"
   },
   "outputs": [
    {
     "name": "stdout",
     "output_type": "stream",
     "text": [
      "QConfig(activation=functools.partial(<class 'torch.quantization.observer.MinMaxObserver'>, reduce_range=True), weight=functools.partial(<class 'torch.quantization.observer.MinMaxObserver'>, dtype=torch.qint8, qscheme=torch.per_tensor_symmetric))\n",
      "Post Training Quantization: Calibration done\n",
      "Post Training Quantization: Convert done\n",
      "Quantized evaluation accuracy:  98.77 %\n",
      "Size (KB): 279.548\n"
     ]
    }
   ],
   "source": [
    "model.qconfig = torch.quantization.default_qconfig\n",
    "print(model.qconfig)\n",
    "torch.quantization.prepare(model, inplace=True)\n",
    "\n",
    "# Calibrate with the training set\n",
    "test_model(model, train_loader)\n",
    "print('Post Training Quantization: Calibration done')\n",
    "\n",
    "# Convert to quantized model\n",
    "torch.quantization.convert(model, inplace=True)\n",
    "print('Post Training Quantization: Convert done')\n",
    "q_acc = test_model(model, test_loader)\n",
    "print('Quantized evaluation accuracy: ',q_acc*100, '%')\n",
    "print_size_of_model(model)\n",
    "\n",
    "# Save model\n",
    "torch.save(model.state_dict(), 'post-training_static_quantization.p')"
   ]
  },
  {
   "cell_type": "code",
   "execution_count": 0,
   "metadata": {
    "colab": {
     "base_uri": "https://localhost:8080/",
     "height": 360
    },
    "colab_type": "code",
    "id": "WOFkkFhj_GHu",
    "outputId": "3f5eaf5b-9c92-41fd-820b-f9f73bfc9879"
   },
   "outputs": [
    {
     "data": {
      "text/plain": [
       "Classifier(\n",
       "  (conv1): QuantizedConv2d(1, 10, kernel_size=(5, 5), stride=(1, 1), scale=0.05616486072540283, zero_point=63)\n",
       "  (conv2): QuantizedConv2d(10, 20, kernel_size=(5, 5), stride=(1, 1), scale=0.10477986931800842, zero_point=86)\n",
       "  (conv2_drop): Dropout2d(p=0.5, inplace=False)\n",
       "  (fc1): QuantizedLinear(\n",
       "    in_features=320, out_features=512, scale=0.1416749656200409, zero_point=77\n",
       "    (_packed_params): LinearPackedParams()\n",
       "  )\n",
       "  (fc2): QuantizedLinear(\n",
       "    in_features=512, out_features=200, scale=0.17969848215579987, zero_point=63\n",
       "    (_packed_params): LinearPackedParams()\n",
       "  )\n",
       "  (fc3): QuantizedLinear(\n",
       "    in_features=200, out_features=10, scale=0.4438689947128296, zero_point=67\n",
       "    (_packed_params): LinearPackedParams()\n",
       "  )\n",
       "  (quant): Quantize(scale=tensor([0.0157]), zero_point=tensor([64]), dtype=torch.quint8)\n",
       "  (dequant): DeQuantize()\n",
       ")"
      ]
     },
     "execution_count": 28,
     "metadata": {
      "tags": []
     },
     "output_type": "execute_result"
    }
   ],
   "source": [
    "model"
   ]
  },
  {
   "cell_type": "markdown",
   "metadata": {
    "colab_type": "text",
    "id": "ske1RM9g-hT2"
   },
   "source": [
    "# FGSM"
   ]
  },
  {
   "cell_type": "markdown",
   "metadata": {
    "colab_type": "text",
    "id": "epFEhh6GAORG"
   },
   "source": [
    "### Inputs"
   ]
  },
  {
   "cell_type": "code",
   "execution_count": 0,
   "metadata": {
    "colab": {},
    "colab_type": "code",
    "id": "nXI11c94AQa0"
   },
   "outputs": [],
   "source": [
    "epsilons = [0, .05, .1, .15, .2, .25, .3]\n",
    "\n",
    "# MNIST Test dataset and dataloader declaration designed for FGSM\n",
    "test_loader = torch.utils.data.DataLoader(\n",
    "    datasets.MNIST('../data', train=False, download=True, transform=transforms.Compose([\n",
    "            transforms.ToTensor(),\n",
    "            ])),\n",
    "        batch_size=1, shuffle=True)"
   ]
  },
  {
   "cell_type": "markdown",
   "metadata": {
    "colab_type": "text",
    "id": "fgAQn_Iw_q8T"
   },
   "source": [
    "### FGSM attack"
   ]
  },
  {
   "cell_type": "code",
   "execution_count": 0,
   "metadata": {
    "colab": {},
    "colab_type": "code",
    "id": "-cMp_ZoN-8tW"
   },
   "outputs": [],
   "source": [
    "# FGSM attack code\n",
    "def fgsm_attack(image, epsilon, data_grad):\n",
    "    # Collect the element-wise sign of the data gradient\n",
    "    sign_data_grad = data_grad.sign()\n",
    "    # Create the perturbed image by adjusting each pixel of the input image\n",
    "    perturbed_image = image + epsilon*sign_data_grad\n",
    "    # Adding clipping to maintain [0,1] range\n",
    "    perturbed_image = torch.clamp(perturbed_image, 0, 1)\n",
    "    # Return the perturbed image\n",
    "    return perturbed_image"
   ]
  },
  {
   "cell_type": "markdown",
   "metadata": {
    "colab_type": "text",
    "id": "fZXKzHEu_v4V"
   },
   "source": [
    "### Run attack"
   ]
  },
  {
   "cell_type": "code",
   "execution_count": 0,
   "metadata": {
    "colab": {},
    "colab_type": "code",
    "id": "qPj0QZUC-_iq"
   },
   "outputs": [],
   "source": [
    "def test( model, device, test_loader, epsilon ):\n",
    "\n",
    "    # Accuracy counter\n",
    "    correct = 0\n",
    "    adv_examples = []\n",
    "\n",
    "    # Loop over all examples in test set\n",
    "    for data, target in test_loader:\n",
    "\n",
    "        # Send the data and label to the device\n",
    "        data, target = data.to(device), target.to(device)\n",
    "\n",
    "        # Set requires_grad attribute of tensor. Important for Attack\n",
    "        data.requires_grad = True\n",
    "\n",
    "        # Forward pass the data through the model\n",
    "        output = model(data)\n",
    "        init_pred = output.max(1, keepdim=True)[1] # get the index of the max log-probability\n",
    "\n",
    "        # If the initial prediction is wrong, dont bother attacking, just move on\n",
    "        if init_pred.item() != target.item():\n",
    "            continue\n",
    "\n",
    "        # Calculate the loss: CrossEntropyLoss()\n",
    "        loss = criterion(output, target)\n",
    "        # Zero all existing gradients\n",
    "        model.zero_grad()\n",
    "        # Calculate gradients of model in backward pass\n",
    "        loss.backward()\n",
    "        # Collect datagrad\n",
    "        data_grad = data.grad.data\n",
    "        # Call FGSM Attack\n",
    "        perturbed_data = fgsm_attack(data, epsilon, data_grad)\n",
    "        # Re-classify the perturbed image\n",
    "        output = model(perturbed_data)\n",
    "\n",
    "        # Check for success\n",
    "        final_pred = output.max(1, keepdim=True)[1] # get the index of the max log-probability\n",
    "        if final_pred.item() == target.item():\n",
    "            correct += 1\n",
    "            # Special case for saving 0 epsilon examples\n",
    "            if (epsilon == 0) and (len(adv_examples) < 5):\n",
    "                adv_ex = perturbed_data.squeeze().detach().cpu().numpy()\n",
    "                adv_examples.append( (init_pred.item(), final_pred.item(), adv_ex) )\n",
    "        else:\n",
    "            # Save some adv examples for visualization later\n",
    "            if len(adv_examples) < 5:\n",
    "                adv_ex = perturbed_data.squeeze().detach().cpu().numpy()\n",
    "                adv_examples.append( (init_pred.item(), final_pred.item(), adv_ex) )\n",
    "\n",
    "    # Calculate final accuracy for this epsilon\n",
    "    final_acc = correct/float(len(test_loader))\n",
    "    print(\"Epsilon: {}\\tTest Accuracy = {} / {} = {}\".format(epsilon, correct, len(test_loader), final_acc))\n",
    "\n",
    "    # Return the accuracy and an adversarial example\n",
    "    return final_acc, adv_examples"
   ]
  },
  {
   "cell_type": "code",
   "execution_count": 0,
   "metadata": {
    "colab": {},
    "colab_type": "code",
    "id": "3hSAePva_AcF"
   },
   "outputs": [],
   "source": [
    "accuracies = []\n",
    "examples = []\n",
    "model = qat_model \n",
    "\n",
    "# Run test for each epsilon\n",
    "for eps in epsilons:\n",
    "    acc, ex = test(model, device, test_loader, eps)\n",
    "    accuracies.append(acc)\n",
    "    examples.append(ex)\n",
    "print(accuracies)"
   ]
  },
  {
   "cell_type": "markdown",
   "metadata": {
    "colab_type": "text",
    "id": "-nNtz87k_kUK"
   },
   "source": [
    "### Results"
   ]
  },
  {
   "cell_type": "code",
   "execution_count": 0,
   "metadata": {
    "colab": {
     "base_uri": "https://localhost:8080/",
     "height": 51
    },
    "colab_type": "code",
    "id": "t62HsJ04zHCy",
    "outputId": "b070b95c-69fc-473a-857e-f70268426de7"
   },
   "outputs": [
    {
     "data": {
      "text/plain": [
       "array([0.981475, 0.932325, 0.831625, 0.669275, 0.464325, 0.272275,\n",
       "       0.142125])"
      ]
     },
     "execution_count": 54,
     "metadata": {
      "tags": []
     },
     "output_type": "execute_result"
    }
   ],
   "source": [
    "# Weight decay vanilla quantized\n",
    "qat_fgsm_wd = np.mean([\n",
    "              [0.981, 0.9441, 0.8589, 0.7187, 0.524, 0.3239, 0.1707],\n",
    "              [0.9759, 0.912, 0.7855, 0.5975, 0.3931, 0.2241, 0.1149],\n",
    "              [0.9864, 0.9462, 0.8635, 0.7056, 0.49, 0.2647, 0.1121],\n",
    "              [0.9826, 0.927, 0.8186, 0.6553, 0.4502, 0.2764, 0.1708],\n",
    "\n",
    "], axis=0)\n",
    "\n",
    "qat_fgsm_wd"
   ]
  },
  {
   "cell_type": "code",
   "execution_count": 0,
   "metadata": {
    "colab": {
     "base_uri": "https://localhost:8080/",
     "height": 51
    },
    "colab_type": "code",
    "id": "9xX0ADP--BEK",
    "outputId": "ac51d16d-ca1f-4105-ee5b-04c6f149e947"
   },
   "outputs": [
    {
     "data": {
      "text/plain": [
       "array([0.97845714, 0.92097143, 0.81094286, 0.64737143, 0.46068571,\n",
       "       0.28765714, 0.16438571])"
      ]
     },
     "execution_count": 6,
     "metadata": {
      "tags": []
     },
     "output_type": "execute_result"
    }
   ],
   "source": [
    "# vanilla quantized \n",
    "qat_fgsm_vanilla = np.mean([\n",
    "                    [0.9842, 0.9473, 0.8759, 0.7567, 0.5967, 0.4183, 0.2671],\n",
    "                    [0.954, 0.8558, 0.7076, 0.5416, 0.3938, 0.2747, 0.1793],\n",
    "                    [0.9755, 0.8997, 0.7471, 0.5297, 0.3377, 0.206, 0.1243],\n",
    "                    [0.9844, 0.9329, 0.8352, 0.6801, 0.4743, 0.2658, 0.1302],\n",
    "                    [0.9829, 0.9386, 0.8416, 0.6959, 0.5223, 0.3501, 0.2059],\n",
    "                    [0.9863, 0.9483, 0.8733, 0.7314, 0.5171, 0.2983, 0.1428],\n",
    "                    [0.9819, 0.9242, 0.7959, 0.5962, 0.3829, 0.2004, 0.1011]\n",
    "], axis=0)\n",
    "\n",
    "qat_fgsm_vanilla"
   ]
  },
  {
   "cell_type": "code",
   "execution_count": 0,
   "metadata": {
    "colab": {
     "base_uri": "https://localhost:8080/",
     "height": 34
    },
    "colab_type": "code",
    "id": "crVhTTDq0Hko",
    "outputId": "94a98e1d-5ce3-4fe6-c34d-4aa867c8b58d"
   },
   "outputs": [
    {
     "data": {
      "text/plain": [
       "array([0.97884, 0.91646, 0.79266, 0.61016, 0.403  , 0.22802, 0.12074])"
      ]
     },
     "execution_count": 4,
     "metadata": {
      "tags": []
     },
     "output_type": "execute_result"
    }
   ],
   "source": [
    "# vanilla\n",
    "fgsm_vanilla = np.mean([\n",
    "                [0.9766, 0.8948, 0.7273, 0.513, 0.3179, 0.1715, 0.097],\n",
    "                [0.9833, 0.9269, 0.8139, 0.6432, 0.442, 0.2653, 0.1508], \n",
    "                [0.9764, 0.9149, 0.7944, 0.6132, 0.3927, 0.2049, 0.084],\n",
    "                [0.9786, 0.9164, 0.8027, 0.6301, 0.4327, 0.2578, 0.1436],\n",
    "                [0.9793, 0.9293, 0.825, 0.6513, 0.4297, 0.2406, 0.1283]\n",
    "], axis=0)\n",
    "\n",
    "fgsm_vanilla"
   ]
  },
  {
   "cell_type": "code",
   "execution_count": 0,
   "metadata": {
    "colab": {
     "base_uri": "https://localhost:8080/",
     "height": 409
    },
    "colab_type": "code",
    "id": "4w0pN_Zl_Ecm",
    "outputId": "1405b607-3215-4907-de84-142bb7db6351"
   },
   "outputs": [
    {
     "data": {
      "image/png": "[encoded data removed]",
      "text/plain": [
       "<Figure size 720x432 with 1 Axes>"
      ]
     },
     "metadata": {
      "image/png": {
       "height": 392,
       "width": 614
      },
      "tags": []
     },
     "output_type": "display_data"
    }
   ],
   "source": [
    "# plot the quantized accuracies vs epsilon\n",
    "fgsm_data = {'Vanilla': fgsm_vanilla, \n",
    "             'Quantized vanilla': qat_fgsm_vanilla,\n",
    "             'Quantized L2-regu': qat_fgsm_wd,\n",
    "             }\n",
    "\n",
    "plt.figure(figsize=(10,6))\n",
    "colors =  ['black', 'darkred', 'gold', 'chartreuse', 'lightseagreen', 'blue', 'magenta']\n",
    "\n",
    "for idx, (name, results) in enumerate(fgsm_data.items()):\n",
    "    plt.plot(epsilons, results, \"*-\", color=colors[idx], label=\"{}\".format(name))\n",
    "\n",
    "plt.yticks(np.arange(0, 1.1, step=0.1))\n",
    "plt.xticks(np.arange(0, .35, step=0.05))\n",
    "plt.title(\"Accuracy vs Epsilon for different Quantized models\")\n",
    "plt.xlabel(\"Epsilon\",fontsize=16)\n",
    "plt.ylabel(\"Accuracy\",fontsize=16)\n",
    "plt.legend(loc='upper right', frameon=False)\n",
    "plt.show()"
   ]
  },
  {
   "cell_type": "markdown",
   "metadata": {
    "colab_type": "text",
    "id": "ZpdEb58H_hJe"
   },
   "source": [
    "# bla"
   ]
  },
  {
   "cell_type": "code",
   "execution_count": 0,
   "metadata": {
    "colab": {},
    "colab_type": "code",
    "id": "DoEfv1-mapmD"
   },
   "outputs": [],
   "source": [
    "from collections import OrderedDict\n",
    "state_dict = torch.load(pretrained_model)\n",
    "new_state_dict = OrderedDict()\n",
    "for k, v in state_dict.items():\n",
    "  print(k)\n",
    "  print(v)"
   ]
  },
  {
   "cell_type": "code",
   "execution_count": 0,
   "metadata": {
    "colab": {},
    "colab_type": "code",
    "id": "A19gAe2b0NX3"
   },
   "outputs": [],
   "source": []
  }
 ],
 "metadata": {
  "colab": {
   "collapsed_sections": [
    "gECaIL6z0d2s",
    "ZqfJP5an15_0",
    "ZpdEb58H_hJe"
   ],
   "name": "Quantization.ipynb",
   "provenance": []
  },
  "kernelspec": {
   "display_name": "Python 3",
   "language": "python",
   "name": "python3"
  },
  "language_info": {
   "codemirror_mode": {
    "name": "ipython",
    "version": 3
   },
   "file_extension": ".py",
   "mimetype": "text/x-python",
   "name": "python",
   "nbconvert_exporter": "python",
   "pygments_lexer": "ipython3",
   "version": "3.7.6"
  }
 },
 "nbformat": 4,
 "nbformat_minor": 1
}
